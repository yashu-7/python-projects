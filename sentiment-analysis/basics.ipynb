{
 "cells": [
  {
   "cell_type": "code",
   "execution_count": 1,
   "metadata": {},
   "outputs": [
    {
     "name": "stdout",
     "output_type": "stream",
     "text": [
      "3.8.1\n"
     ]
    }
   ],
   "source": [
    "import nltk\n",
    "from nltk.tokenize import word_tokenize\n",
    "from nltk.tokenize import sent_tokenize\n",
    "\n",
    "print(nltk.__version__)"
   ]
  },
  {
   "cell_type": "code",
   "execution_count": 2,
   "metadata": {},
   "outputs": [],
   "source": [
    "sample_text = \"This is a sample text, with some quotes!\""
   ]
  },
  {
   "cell_type": "markdown",
   "metadata": {},
   "source": [
    "### Tokenization"
   ]
  },
  {
   "cell_type": "code",
   "execution_count": 3,
   "metadata": {},
   "outputs": [
    {
     "name": "stdout",
     "output_type": "stream",
     "text": [
      "['This', 'is', 'a', 'sample', 'text', ',', 'with', 'some', 'quotes', '!']\n",
      "['This is a sample text, with some quotes!']\n"
     ]
    }
   ],
   "source": [
    "tokenized_words = word_tokenize(sample_text)\n",
    "print(tokenized_words)\n",
    "\n",
    "tokenized_sent = sent_tokenize(sample_text)\n",
    "print(tokenized_sent)"
   ]
  },
  {
   "cell_type": "code",
   "execution_count": 4,
   "metadata": {},
   "outputs": [],
   "source": [
    "from nltk.probability import FreqDist"
   ]
  },
  {
   "cell_type": "code",
   "execution_count": 5,
   "metadata": {},
   "outputs": [
    {
     "name": "stdout",
     "output_type": "stream",
     "text": [
      "<FreqDist with 10 samples and 10 outcomes>\n",
      "[('This', 1), ('is', 1), ('a', 1), ('sample', 1), ('text', 1), (',', 1), ('with', 1), ('some', 1), ('quotes', 1), ('!', 1)]\n"
     ]
    }
   ],
   "source": [
    "fd = FreqDist(tokenized_words)\n",
    "print(f\"{fd}\\n{fd.most_common()}\")"
   ]
  },
  {
   "cell_type": "code",
   "execution_count": 6,
   "metadata": {},
   "outputs": [],
   "source": [
    "import matplotlib.pyplot as plt"
   ]
  },
  {
   "cell_type": "code",
   "execution_count": 7,
   "metadata": {},
   "outputs": [
    {
     "data": {
      "image/png": "[encoded data removed]",
      "text/plain": [
       "<Figure size 640x480 with 1 Axes>"
      ]
     },
     "metadata": {},
     "output_type": "display_data"
    }
   ],
   "source": [
    "fd.plot(30,cumulative=False)\n",
    "plt.show()"
   ]
  },
  {
   "cell_type": "markdown",
   "metadata": {},
   "source": [
    "### Removing stop words"
   ]
  },
  {
   "cell_type": "code",
   "execution_count": 8,
   "metadata": {},
   "outputs": [],
   "source": [
    "sentence = \"Hello this is a message of the first world, that can be sent to the global scale.\""
   ]
  },
  {
   "cell_type": "code",
   "execution_count": 19,
   "metadata": {},
   "outputs": [],
   "source": [
    "token_words = word_tokenize(sentence)"
   ]
  },
  {
   "cell_type": "code",
   "execution_count": 14,
   "metadata": {},
   "outputs": [],
   "source": [
    "from nltk.corpus import stopwords"
   ]
  },
  {
   "cell_type": "code",
   "execution_count": 18,
   "metadata": {},
   "outputs": [
    {
     "name": "stdout",
     "output_type": "stream",
     "text": [
      "{\"don't\", 'from', 'aren', 'herself', 'here', \"you're\", \"weren't\", 'did', 'further', \"needn't\", 'y', 'other', 'm', 'these', 'this', 'ma', 'about', 'above', 'she', 'few', 'her', \"you'd\", 'its', 'ours', 'does', 'our', 'after', 'how', 'shouldn', 'i', 'mustn', 'it', 'while', 'won', 'but', 'most', 'theirs', 'why', 'then', 'was', 'be', 'yours', \"you'll\", 'ain', 'until', 'on', 'an', 'himself', 'having', 'than', 'down', \"hasn't\", 'being', 'nor', 'had', \"won't\", 'just', 'which', \"wasn't\", 'you', 'when', \"it's\", 'didn', 'so', \"shan't\", \"you've\", 'because', 'me', 'what', 'at', 'your', 'a', 'for', 'that', 'under', 'whom', 'don', 'only', 'has', \"she's\", 'hers', 'doesn', 'to', 'through', 'doing', 'o', \"couldn't\", 'during', 'should', 'itself', \"hadn't\", 'couldn', 'am', 'between', 'out', 'off', 'no', 'now', 'his', 'who', 'too', 'myself', 'can', \"wouldn't\", 'into', 'do', 'the', 'where', \"that'll\", 'again', 'needn', 've', 'below', 'hadn', 'shan', 'and', 'ourselves', 're', \"shouldn't\", 'with', \"doesn't\", 'are', 'there', \"should've\", \"haven't\", \"mightn't\", 'is', 'as', 'were', 'isn', \"isn't\", 'up', 'some', 'weren', 'by', 'will', 'of', 'my', 'those', 'against', 'own', 'each', 'not', 's', 'we', 'their', 'yourself', 'wasn', 'them', 'they', 'he', 'any', 'been', 'once', 'in', \"mustn't\", 'yourselves', 'more', 'themselves', 'mightn', 'over', 'wouldn', 'have', 'him', 'if', 'all', 'll', \"aren't\", 'very', \"didn't\", 'such', 'haven', 'hasn', 't', 'same', 'before', 'both', 'd', 'or'}\n"
     ]
    }
   ],
   "source": [
    "stop_words = set(stopwords.words('english'))\n",
    "print(stop_words)"
   ]
  },
  {
   "cell_type": "code",
   "execution_count": 20,
   "metadata": {},
   "outputs": [
    {
     "name": "stdout",
     "output_type": "stream",
     "text": [
      "['Hello', 'message', 'first', 'world', ',', 'sent', 'global', 'scale', '.']\n"
     ]
    }
   ],
   "source": [
    "after_removing_stopwords = []\n",
    "for word in token_words:\n",
    "    if word not in stop_words:\n",
    "        after_removing_stopwords.append(word)\n",
    "print(after_removing_stopwords)"
   ]
  },
  {
   "cell_type": "markdown",
   "metadata": {},
   "source": [
    "### Lemmatization and Stemming"
   ]
  },
  {
   "cell_type": "code",
   "execution_count": 21,
   "metadata": {},
   "outputs": [],
   "source": [
    "from nltk.stem import PorterStemmer, WordNetLemmatizer"
   ]
  },
  {
   "cell_type": "code",
   "execution_count": 22,
   "metadata": {},
   "outputs": [],
   "source": [
    "lemmatizer = WordNetLemmatizer()\n",
    "stemmer = PorterStemmer()"
   ]
  },
  {
   "cell_type": "code",
   "execution_count": 26,
   "metadata": {},
   "outputs": [
    {
     "name": "stdout",
     "output_type": "stream",
     "text": [
      "stemmed word  play-->play\t\tlemmatized word  play-->play\n",
      "stemmed word  playing-->play\t\tlemmatized word  playing-->playing\n",
      "stemmed word  played-->play\t\tlemmatized word  played-->played\n",
      "stemmed word  close-->close\t\tlemmatized word  close-->close\n",
      "stemmed word  closed-->close\t\tlemmatized word  closed-->closed\n",
      "stemmed word  closing-->close\t\tlemmatized word  closing-->closing\n",
      "stemmed word  had-->had\t\tlemmatized word  had-->had\n",
      "stemmed word  have-->have\t\tlemmatized word  have-->have\n"
     ]
    }
   ],
   "source": [
    "demowords = ['play', 'playing', 'played', 'close', 'closed', 'closing', 'had', 'have']\n",
    "\n",
    "for word in demowords:\n",
    "    stemmed_word = stemmer.stem(word)\n",
    "    lemmatized_word = lemmatizer.lemmatize(word)\n",
    "    print(f'stemmed word  {word}-->{stemmed_word}\\t\\tlemmatized word  {word}-->{lemmatized_word}')"
   ]
  }
 ],
 "metadata": {
  "kernelspec": {
   "display_name": "Python 3",
   "language": "python",
   "name": "python3"
  },
  "language_info": {
   "codemirror_mode": {
    "name": "ipython",
    "version": 3
   },
   "file_extension": ".py",
   "mimetype": "text/x-python",
   "name": "python",
   "nbconvert_exporter": "python",
   "pygments_lexer": "ipython3",
   "version": "3.10.9"
  }
 },
 "nbformat": 4,
 "nbformat_minor": 2
}
